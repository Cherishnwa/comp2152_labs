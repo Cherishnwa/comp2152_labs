{
 "cells": [
  {
   "cell_type": "code",
   "execution_count": null,
   "id": "1c459355",
   "metadata": {},
   "outputs": [],
   "source": []
  },
  {
   "cell_type": "code",
   "execution_count": 64,
   "id": "475751cb-2dc6-4924-a83d-f7df3fd5e2e6",
   "metadata": {},
   "outputs": [
    {
     "name": "stdout",
     "output_type": "stream",
     "text": [
      "Workout stats for friends:\n",
      "{'Favour': (10, 30, 35), 'Blen': (20, 25, 15), 'Treasure': (25, 35, 65)}\n",
      "Total workout minutes for each friend:\n",
      "{'Favour': (10, 30, 35), 'Blen': (20, 25, 15), 'Treasure': (25, 35, 65), 'Favour_Total': 75, 'Blen_Total': 60, 'Treasure_Total': 125}\n",
      "Yoga and running minutes for all friends:\n",
      "Favour: Yoga minutes = 10, Running minutes = 30\n",
      "Blen: Yoga minutes = 20, Running minutes = 25\n",
      "Treasure: Yoga minutes = 25, Running minutes = 35\n",
      "Weightlifting minutes for last two friends:\n",
      "Blen: Weightlifting minutes = 15\n",
      "Treasure: Weightlifting minutes = 65\n",
      "Checking if any friends workout is >= 120 minutes:\n",
      "Great job staying active, Treasure!\n"
     ]
    },
    {
     "name": "stdout",
     "output_type": "stream",
     "text": [
      "Friend cherisdh is not found in the records.\n",
      "Highest workout minutes: 125 by Treasure\n",
      "Lowest workout minutes: 60 by Blen\n"
     ]
    }
   ],
   "source": [
    "\n",
    "\"\"\"\n",
    "Name: CHERISH NWANSI\n",
    "Student ID: 101505167\n",
    "Assignment:  1\n",
    "\"\"\"\n",
    "\n",
    "#Creating variables to store data\n",
    "gym_member = \"Alex Alliton\" #string\n",
    "preferred_weight_kg = 20.5 #float\n",
    "higest_reps = 25 #int\n",
    "membership_active = True #boolean\n",
    "\n",
    "#Creating Dictionary to store workout stats for friends\n",
    "#With keys as strings and values as tuples (yoga, running, weightlifting)\n",
    "print(\"Workout stats for friends:\")\n",
    "workout_stats = {\n",
    "    \"Favour\": (10, 30, 35),\n",
    "    \"Blen\": (20, 25, 15),\n",
    "    \"Treasure\": (25, 35, 65),\n",
    "}\n",
    "print(workout_stats)\n",
    "\n",
    "#Calculating the total workouts minutes for each friend\n",
    "print(\"Total workout minutes for each friend:\")\n",
    "for friend, workout_minutes in list(workout_stats.items()):\n",
    "    total_workout_minutes = sum(workout_minutes)\n",
    "    workout_stats[f\"{friend}_Total\"] = total_workout_minutes\n",
    "print(workout_stats) \n",
    "\n",
    "# Creating a nested list of workout minutes for friends\n",
    "#List[List[int]]\n",
    "yoga_running_minutes = [[friend, minutes[0], minutes[1]] for friend, minutes in workout_stats.items() if not friend.endswith(\"_Total\")]\n",
    "print(\"Yoga and running minutes for all friends:\")\n",
    "for friend, yoga, running in yoga_running_minutes:\n",
    "    print(f\"{friend}: Yoga minutes = {yoga}, Running minutes = {running}\")\n",
    "\n",
    "# Printing the yoga and running minutes for all friends\n",
    "#for i, (yoga, running) in enumerate(yoga_running_minutes):\n",
    "#print(f\"Friend {i+1}: Yoga minutes = {yoga_running_minutes[i][0]}, Running minutes = {yoga_running_minutes[i][1]}\")\n",
    "\n",
    "#Extracting the last two friends weightlifting minutes\n",
    "print(\"Weightlifting minutes for last two friends:\")\n",
    "for friend in [f for f in workout_stats if isinstance(workout_stats[f], tuple)][-2:]:\n",
    "    print(f\"{friend}: Weightlifting minutes = {workout_stats[friend][2]}\")\n",
    "\n",
    "#Checking if any friends workout is >= 120 minutes\n",
    "print(\"Checking if any friends workout is >= 120 minutes:\")\n",
    "for friend, total_workout_minutes in workout_stats.items():\n",
    "    if isinstance(total_workout_minutes, int) and total_workout_minutes >= 120:\n",
    "        print(f\"Great job staying active, {friend.replace('_Total', '')}!\")\n",
    "# A feature that allows user to input a friend's name and check if the friend is in the dictionary\n",
    "friend_name = input(\"Enter a friend's name: \")\n",
    "if friend_name in workout_stats:\n",
    "    print(f\"Workout stats for {friend_name}:\")\n",
    "    if isinstance(workout_stats[friend_name], tuple):\n",
    "        yoga, running, weightlifting = workout_stats[friend_name]\n",
    "        print(f\"Yoga minutes: {yoga}\")\n",
    "        print(f\"Running minutes: {running}\")\n",
    "        print(f\"Weightlifting minutes: {weightlifting}\")\n",
    "    else:\n",
    "        print(f\"Total workout minutes: {workout_stats[friend_name]}\")\n",
    "else:\n",
    "    print(f\"Friend {friend_name} is not found in the records.\")\n",
    "    # Creating a List of the highest and lowest friends workout minutes\n",
    "    totals = {friend: total for friend, total in workout_stats.items() if (\"_Total\" in friend)}\n",
    "\n",
    "    highest_friend = max(totals, key=totals.get)\n",
    "    lowest_friend = min(totals, key=totals.get)\n",
    "\n",
    "    print(f\"Highest workout minutes: {workout_stats[highest_friend]} by {highest_friend.replace('_Total', '')}\")\n",
    "    print(f\"Lowest workout minutes: {workout_stats[lowest_friend]} by {lowest_friend.replace('_Total', '')}\")\n"
   ]
  }
 ],
 "metadata": {
  "kernelspec": {
   "display_name": "Python 3",
   "language": "python",
   "name": "python3"
  },
  "language_info": {
   "codemirror_mode": {
    "name": "ipython",
    "version": 3
   },
   "file_extension": ".py",
   "mimetype": "text/x-python",
   "name": "python",
   "nbconvert_exporter": "python",
   "pygments_lexer": "ipython3",
   "version": "3.13.1"
  }
 },
 "nbformat": 4,
 "nbformat_minor": 5
}
